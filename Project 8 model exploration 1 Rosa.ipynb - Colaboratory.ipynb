{
  "cells": [
    {
      "cell_type": "markdown",
      "metadata": {
        "id": "d3QyiwD0Fi4A"
      },
      "source": [
        "## premise: study underlying model dynamics\n",
        "challenge assumptions on sell-factor causality in prices"
      ]
    },
    {
      "cell_type": "markdown",
      "source": [
        "install"
      ],
      "metadata": {
        "id": "7dBgt5HBXTAu"
      }
    },
    {
      "cell_type": "markdown",
      "source": [
        "Here we will be installing 5 python packages using pip in our code.  "
      ],
      "metadata": {
        "id": "gFCh5rXxAMfb"
      }
    },
    {
      "cell_type": "markdown",
      "source": [
        "install critical libraries to the underlying os"
      ],
      "metadata": {
        "id": "6dbcbSN4Axjh"
      }
    },
    {
      "cell_type": "code",
      "execution_count": null,
      "metadata": {
        "colab": {
          "base_uri": "https://localhost:8080/"
        },
        "id": "HMf-rHXqFi4F",
        "outputId": "d2ba7a7b-aedb-420f-c1af-21c1727914ed"
      },
      "outputs": [
        {
          "output_type": "stream",
          "name": "stdout",
          "text": [
            "Requirement already satisfied: altair in /usr/local/lib/python3.10/dist-packages (4.2.2)\n",
            "Requirement already satisfied: entrypoints in /usr/local/lib/python3.10/dist-packages (from altair) (0.4)\n",
            "Requirement already satisfied: jinja2 in /usr/local/lib/python3.10/dist-packages (from altair) (3.1.2)\n",
            "Requirement already satisfied: jsonschema>=3.0 in /usr/local/lib/python3.10/dist-packages (from altair) (4.19.2)\n",
            "Requirement already satisfied: numpy in /usr/local/lib/python3.10/dist-packages (from altair) (1.23.5)\n",
            "Requirement already satisfied: pandas>=0.18 in /usr/local/lib/python3.10/dist-packages (from altair) (1.5.3)\n",
            "Requirement already satisfied: toolz in /usr/local/lib/python3.10/dist-packages (from altair) (0.12.0)\n",
            "Requirement already satisfied: attrs>=22.2.0 in /usr/local/lib/python3.10/dist-packages (from jsonschema>=3.0->altair) (23.1.0)\n",
            "Requirement already satisfied: jsonschema-specifications>=2023.03.6 in /usr/local/lib/python3.10/dist-packages (from jsonschema>=3.0->altair) (2023.7.1)\n",
            "Requirement already satisfied: referencing>=0.28.4 in /usr/local/lib/python3.10/dist-packages (from jsonschema>=3.0->altair) (0.30.2)\n",
            "Requirement already satisfied: rpds-py>=0.7.1 in /usr/local/lib/python3.10/dist-packages (from jsonschema>=3.0->altair) (0.12.0)\n",
            "Requirement already satisfied: python-dateutil>=2.8.1 in /usr/local/lib/python3.10/dist-packages (from pandas>=0.18->altair) (2.8.2)\n",
            "Requirement already satisfied: pytz>=2020.1 in /usr/local/lib/python3.10/dist-packages (from pandas>=0.18->altair) (2023.3.post1)\n",
            "Requirement already satisfied: MarkupSafe>=2.0 in /usr/local/lib/python3.10/dist-packages (from jinja2->altair) (2.1.3)\n",
            "Requirement already satisfied: six>=1.5 in /usr/local/lib/python3.10/dist-packages (from python-dateutil>=2.8.1->pandas>=0.18->altair) (1.16.0)\n",
            "Collecting altair-viewer\n",
            "  Downloading altair_viewer-0.4.0-py3-none-any.whl (844 kB)\n",
            "\u001b[2K     \u001b[90m━━━━━━━━━━━━━━━━━━━━━━━━━━━━━━━━━━━━━━━━\u001b[0m \u001b[32m844.5/844.5 kB\u001b[0m \u001b[31m6.6 MB/s\u001b[0m eta \u001b[36m0:00:00\u001b[0m\n",
            "\u001b[?25hRequirement already satisfied: altair in /usr/local/lib/python3.10/dist-packages (from altair-viewer) (4.2.2)\n",
            "Collecting altair-data-server>=0.4.0 (from altair-viewer)\n",
            "  Downloading altair_data_server-0.4.1-py3-none-any.whl (12 kB)\n",
            "Requirement already satisfied: portpicker in /usr/local/lib/python3.10/dist-packages (from altair-data-server>=0.4.0->altair-viewer) (1.5.2)\n",
            "Requirement already satisfied: tornado in /usr/local/lib/python3.10/dist-packages (from altair-data-server>=0.4.0->altair-viewer) (6.3.2)\n",
            "Requirement already satisfied: entrypoints in /usr/local/lib/python3.10/dist-packages (from altair->altair-viewer) (0.4)\n",
            "Requirement already satisfied: jinja2 in /usr/local/lib/python3.10/dist-packages (from altair->altair-viewer) (3.1.2)\n",
            "Requirement already satisfied: jsonschema>=3.0 in /usr/local/lib/python3.10/dist-packages (from altair->altair-viewer) (4.19.2)\n",
            "Requirement already satisfied: numpy in /usr/local/lib/python3.10/dist-packages (from altair->altair-viewer) (1.23.5)\n",
            "Requirement already satisfied: pandas>=0.18 in /usr/local/lib/python3.10/dist-packages (from altair->altair-viewer) (1.5.3)\n",
            "Requirement already satisfied: toolz in /usr/local/lib/python3.10/dist-packages (from altair->altair-viewer) (0.12.0)\n",
            "Requirement already satisfied: attrs>=22.2.0 in /usr/local/lib/python3.10/dist-packages (from jsonschema>=3.0->altair->altair-viewer) (23.1.0)\n",
            "Requirement already satisfied: jsonschema-specifications>=2023.03.6 in /usr/local/lib/python3.10/dist-packages (from jsonschema>=3.0->altair->altair-viewer) (2023.7.1)\n",
            "Requirement already satisfied: referencing>=0.28.4 in /usr/local/lib/python3.10/dist-packages (from jsonschema>=3.0->altair->altair-viewer) (0.30.2)\n",
            "Requirement already satisfied: rpds-py>=0.7.1 in /usr/local/lib/python3.10/dist-packages (from jsonschema>=3.0->altair->altair-viewer) (0.12.0)\n",
            "Requirement already satisfied: python-dateutil>=2.8.1 in /usr/local/lib/python3.10/dist-packages (from pandas>=0.18->altair->altair-viewer) (2.8.2)\n",
            "Requirement already satisfied: pytz>=2020.1 in /usr/local/lib/python3.10/dist-packages (from pandas>=0.18->altair->altair-viewer) (2023.3.post1)\n",
            "Requirement already satisfied: MarkupSafe>=2.0 in /usr/local/lib/python3.10/dist-packages (from jinja2->altair->altair-viewer) (2.1.3)\n",
            "Requirement already satisfied: psutil in /usr/local/lib/python3.10/dist-packages (from portpicker->altair-data-server>=0.4.0->altair-viewer) (5.9.5)\n",
            "Requirement already satisfied: six>=1.5 in /usr/local/lib/python3.10/dist-packages (from python-dateutil>=2.8.1->pandas>=0.18->altair->altair-viewer) (1.16.0)\n",
            "Installing collected packages: altair-data-server, altair-viewer\n",
            "Successfully installed altair-data-server-0.4.1 altair-viewer-0.4.0\n",
            "Requirement already satisfied: altair_viewer in /usr/local/lib/python3.10/dist-packages (0.4.0)\n",
            "Requirement already satisfied: altair in /usr/local/lib/python3.10/dist-packages (from altair_viewer) (4.2.2)\n",
            "Requirement already satisfied: altair-data-server>=0.4.0 in /usr/local/lib/python3.10/dist-packages (from altair_viewer) (0.4.1)\n",
            "Requirement already satisfied: portpicker in /usr/local/lib/python3.10/dist-packages (from altair-data-server>=0.4.0->altair_viewer) (1.5.2)\n",
            "Requirement already satisfied: tornado in /usr/local/lib/python3.10/dist-packages (from altair-data-server>=0.4.0->altair_viewer) (6.3.2)\n",
            "Requirement already satisfied: entrypoints in /usr/local/lib/python3.10/dist-packages (from altair->altair_viewer) (0.4)\n",
            "Requirement already satisfied: jinja2 in /usr/local/lib/python3.10/dist-packages (from altair->altair_viewer) (3.1.2)\n",
            "Requirement already satisfied: jsonschema>=3.0 in /usr/local/lib/python3.10/dist-packages (from altair->altair_viewer) (4.19.2)\n",
            "Requirement already satisfied: numpy in /usr/local/lib/python3.10/dist-packages (from altair->altair_viewer) (1.23.5)\n",
            "Requirement already satisfied: pandas>=0.18 in /usr/local/lib/python3.10/dist-packages (from altair->altair_viewer) (1.5.3)\n",
            "Requirement already satisfied: toolz in /usr/local/lib/python3.10/dist-packages (from altair->altair_viewer) (0.12.0)\n",
            "Requirement already satisfied: attrs>=22.2.0 in /usr/local/lib/python3.10/dist-packages (from jsonschema>=3.0->altair->altair_viewer) (23.1.0)\n",
            "Requirement already satisfied: jsonschema-specifications>=2023.03.6 in /usr/local/lib/python3.10/dist-packages (from jsonschema>=3.0->altair->altair_viewer) (2023.7.1)\n",
            "Requirement already satisfied: referencing>=0.28.4 in /usr/local/lib/python3.10/dist-packages (from jsonschema>=3.0->altair->altair_viewer) (0.30.2)\n",
            "Requirement already satisfied: rpds-py>=0.7.1 in /usr/local/lib/python3.10/dist-packages (from jsonschema>=3.0->altair->altair_viewer) (0.12.0)\n",
            "Requirement already satisfied: python-dateutil>=2.8.1 in /usr/local/lib/python3.10/dist-packages (from pandas>=0.18->altair->altair_viewer) (2.8.2)\n",
            "Requirement already satisfied: pytz>=2020.1 in /usr/local/lib/python3.10/dist-packages (from pandas>=0.18->altair->altair_viewer) (2023.3.post1)\n",
            "Requirement already satisfied: MarkupSafe>=2.0 in /usr/local/lib/python3.10/dist-packages (from jinja2->altair->altair_viewer) (2.1.3)\n",
            "Requirement already satisfied: psutil in /usr/local/lib/python3.10/dist-packages (from portpicker->altair-data-server>=0.4.0->altair_viewer) (5.9.5)\n",
            "Requirement already satisfied: six>=1.5 in /usr/local/lib/python3.10/dist-packages (from python-dateutil>=2.8.1->pandas>=0.18->altair->altair_viewer) (1.16.0)\n",
            "Requirement already satisfied: statsmodels in /usr/local/lib/python3.10/dist-packages (0.14.0)\n",
            "Requirement already satisfied: numpy>=1.18 in /usr/local/lib/python3.10/dist-packages (from statsmodels) (1.23.5)\n",
            "Requirement already satisfied: scipy!=1.9.2,>=1.4 in /usr/local/lib/python3.10/dist-packages (from statsmodels) (1.11.3)\n",
            "Requirement already satisfied: pandas>=1.0 in /usr/local/lib/python3.10/dist-packages (from statsmodels) (1.5.3)\n",
            "Requirement already satisfied: patsy>=0.5.2 in /usr/local/lib/python3.10/dist-packages (from statsmodels) (0.5.3)\n",
            "Requirement already satisfied: packaging>=21.3 in /usr/local/lib/python3.10/dist-packages (from statsmodels) (23.2)\n",
            "Requirement already satisfied: python-dateutil>=2.8.1 in /usr/local/lib/python3.10/dist-packages (from pandas>=1.0->statsmodels) (2.8.2)\n",
            "Requirement already satisfied: pytz>=2020.1 in /usr/local/lib/python3.10/dist-packages (from pandas>=1.0->statsmodels) (2023.3.post1)\n",
            "Requirement already satisfied: six in /usr/local/lib/python3.10/dist-packages (from patsy>=0.5.2->statsmodels) (1.16.0)\n",
            "Collecting imblearn\n",
            "  Downloading imblearn-0.0-py2.py3-none-any.whl (1.9 kB)\n",
            "Requirement already satisfied: imbalanced-learn in /usr/local/lib/python3.10/dist-packages (from imblearn) (0.10.1)\n",
            "Requirement already satisfied: numpy>=1.17.3 in /usr/local/lib/python3.10/dist-packages (from imbalanced-learn->imblearn) (1.23.5)\n",
            "Requirement already satisfied: scipy>=1.3.2 in /usr/local/lib/python3.10/dist-packages (from imbalanced-learn->imblearn) (1.11.3)\n",
            "Requirement already satisfied: scikit-learn>=1.0.2 in /usr/local/lib/python3.10/dist-packages (from imbalanced-learn->imblearn) (1.2.2)\n",
            "Requirement already satisfied: joblib>=1.1.1 in /usr/local/lib/python3.10/dist-packages (from imbalanced-learn->imblearn) (1.3.2)\n",
            "Requirement already satisfied: threadpoolctl>=2.0.0 in /usr/local/lib/python3.10/dist-packages (from imbalanced-learn->imblearn) (3.2.0)\n",
            "Installing collected packages: imblearn\n",
            "Successfully installed imblearn-0.0\n"
          ]
        }
      ],
      "source": [
        "!pip3 install altair\n",
        "!pip3 install altair-viewer\n",
        "!pip3 install -U altair_viewer\n",
        "!pip3 install statsmodels\n",
        "!pip3 install imblearn\n"
      ]
    },
    {
      "cell_type": "markdown",
      "source": [
        "In this section of code we will be importing the python libraries that we had previously imported but this time we will be sending them to be used for oversampling and machince learning(AI) as well as data analysis."
      ],
      "metadata": {
        "id": "n5rqG38W06k8"
      }
    },
    {
      "cell_type": "code",
      "execution_count": null,
      "metadata": {
        "id": "TG6lL3OkFi4H"
      },
      "outputs": [],
      "source": [
        "import pandas as pd\n",
        "import altair as alt\n",
        "import matplotlib.pyplot as plt #graphics --viz\n",
        "from imblearn.over_sampling import ADASYN #synthetic minority oversampling\n",
        "from sklearn.neighbors import KNeighborsClassifier #ML\n",
        "from sklearn.preprocessing import StandardScaler #---\n",
        "from statsmodels.tsa.api import VAR #granger causality\n",
        "from statsmodels.tsa.vector_ar.var_model import VARResults, VARResultsWrapper\n",
        "from sklearn.model_selection import train_test_split #TTS ,ML\n",
        "from sklearn.metrics import accuracy_score #error analysis\n",
        "from sklearn.metrics import multilabel_confusion_matrix\n",
        "from sklearn.metrics import confusion_matrix, ConfusionMatrixDisplay\n",
        "from sklearn.metrics import classification_report\n",
        "from scipy import stats"
      ]
    },
    {
      "cell_type": "markdown",
      "source": [
        "retrieve the data..."
      ],
      "metadata": {
        "id": "crT8NZmoXiRl"
      }
    },
    {
      "cell_type": "markdown",
      "source": [
        "grab data from gh"
      ],
      "metadata": {
        "id": "-6US9eIABOgB"
      }
    },
    {
      "cell_type": "markdown",
      "source": [
        "We are creating a data frame for the the URL pasted there from the professors github and will be saved in a csv file. The file in question will also be displayed here with their data and rows and columns."
      ],
      "metadata": {
        "id": "htRj6gwr1jRK"
      }
    },
    {
      "cell_type": "code",
      "execution_count": null,
      "metadata": {
        "colab": {
          "base_uri": "https://localhost:8080/",
          "height": 634
        },
        "id": "3DggUtGLFi4I",
        "outputId": "e58735f0-e4c4-4848-c0a1-09667592caec"
      },
      "outputs": [
        {
          "output_type": "execute_result",
          "data": {
            "text/plain": [
              "      Unnamed: 0  group          time   s_MP        change       type   p_MP  \\\n",
              "0              0      2  1.660222e+12  30.00 -5.333889e-04  precursor  29.99   \n",
              "1              1      4  1.660222e+12  29.83 -6.637375e-05  precursor  29.88   \n",
              "2              2      6  1.660222e+12  29.92 -6.345915e-04  precursor  29.91   \n",
              "3              3      8  1.660222e+12  29.90 -5.020193e-04  precursor  29.91   \n",
              "4              4     10  1.660223e+12  29.91 -1.469841e-03  precursor  29.90   \n",
              "...          ...    ...           ...    ...           ...        ...    ...   \n",
              "6411        6411  12824  1.699042e+12  12.09  6.835784e-08  precursor  12.09   \n",
              "6412        6412  12826  1.699043e+12  12.10  8.291806e-05  precursor  12.10   \n",
              "6413        6413  12828  1.699044e+12  12.10  4.140439e-04  precursor  12.10   \n",
              "6414        6414  12830  1.699045e+12  12.18 -3.610930e-03  precursor  12.13   \n",
              "6415        6415  12832  1.699046e+12  12.14 -1.646768e-04  precursor  12.15   \n",
              "\n",
              "      precursor_buy_cap_pct_change  precursor_ask_cap_pct_change  \\\n",
              "0                        -0.012510                      0.000002   \n",
              "1                         0.002322                     -0.000039   \n",
              "2                         0.005934                     -0.000019   \n",
              "3                        -0.002813                     -0.000010   \n",
              "4                        -0.000211                      0.000061   \n",
              "...                            ...                           ...   \n",
              "6411                      0.007670                     -0.000135   \n",
              "6412                      0.128049                      0.000514   \n",
              "6413                     -0.005610                     -0.000328   \n",
              "6414                     -0.003349                      0.002099   \n",
              "6415                     -0.003861                      0.001729   \n",
              "\n",
              "      precursor_bid_vol_pct_change  ...  length.1  sum_change.1  \\\n",
              "0                        -0.004204  ...         1      0.000838   \n",
              "1                         0.000775  ...         2      0.002008   \n",
              "2                         0.002165  ...         2      0.002382   \n",
              "3                        -0.001013  ...         2      0.002109   \n",
              "4                         0.001178  ...         2      0.004807   \n",
              "...                            ...  ...       ...           ...   \n",
              "6411                      0.001137  ...         2      0.002900   \n",
              "6412                      0.020292  ...         2      0.001491   \n",
              "6413                     -0.000815  ...         2      0.005863   \n",
              "6414                     -0.000474  ...         1      0.001072   \n",
              "6415                     -0.000519  ...         2      0.297416   \n",
              "\n",
              "      max_surge_mp.1  min_surge_mp.1  max_precursor_mp.1  min_precursor_mp.1  \\\n",
              "0              29.83           29.83               29.84               29.84   \n",
              "1              29.92           29.91               29.88               29.88   \n",
              "2              29.90           29.81               29.84               29.84   \n",
              "3              29.91           29.87               29.91               29.91   \n",
              "4              29.67           29.60               29.49               29.49   \n",
              "...              ...             ...                 ...                 ...   \n",
              "6411           12.10           12.06               12.07               12.07   \n",
              "6412           12.10           12.07               12.08               12.08   \n",
              "6413           12.18           12.11               12.10               12.10   \n",
              "6414           12.14           12.14               12.13               12.13   \n",
              "6415           12.14           12.09               12.10               12.10   \n",
              "\n",
              "        area.1  surge_area  surge_targets_met_pct.1  label  \n",
              "0     0.000838    0.000838                 0.033523      0  \n",
              "1     0.004017    0.004017                -0.133690      0  \n",
              "2     0.004765    0.004765                -0.200669      0  \n",
              "3     0.004218    0.004218                 0.000000      0  \n",
              "4     0.009614    0.009614                -0.606673      0  \n",
              "...        ...         ...                      ...    ...  \n",
              "6411  0.005801    0.005801                -0.247934      0  \n",
              "6412  0.002982    0.002982                -0.165289      0  \n",
              "6413  0.011726    0.011726                -0.656814      0  \n",
              "6414  0.001072    0.001072                -0.082372      0  \n",
              "6415  0.594831    0.594831                -0.329489      0  \n",
              "\n",
              "[6416 rows x 39 columns]"
            ],
            "text/html": [
              "\n",
              "  <div id=\"df-efcd84e7-e72b-433a-97b2-73be603759a0\" class=\"colab-df-container\">\n",
              "    <div>\n",
              "<style scoped>\n",
              "    .dataframe tbody tr th:only-of-type {\n",
              "        vertical-align: middle;\n",
              "    }\n",
              "\n",
              "    .dataframe tbody tr th {\n",
              "        vertical-align: top;\n",
              "    }\n",
              "\n",
              "    .dataframe thead th {\n",
              "        text-align: right;\n",
              "    }\n",
              "</style>\n",
              "<table border=\"1\" class=\"dataframe\">\n",
              "  <thead>\n",
              "    <tr style=\"text-align: right;\">\n",
              "      <th></th>\n",
              "      <th>Unnamed: 0</th>\n",
              "      <th>group</th>\n",
              "      <th>time</th>\n",
              "      <th>s_MP</th>\n",
              "      <th>change</th>\n",
              "      <th>type</th>\n",
              "      <th>p_MP</th>\n",
              "      <th>precursor_buy_cap_pct_change</th>\n",
              "      <th>precursor_ask_cap_pct_change</th>\n",
              "      <th>precursor_bid_vol_pct_change</th>\n",
              "      <th>...</th>\n",
              "      <th>length.1</th>\n",
              "      <th>sum_change.1</th>\n",
              "      <th>max_surge_mp.1</th>\n",
              "      <th>min_surge_mp.1</th>\n",
              "      <th>max_precursor_mp.1</th>\n",
              "      <th>min_precursor_mp.1</th>\n",
              "      <th>area.1</th>\n",
              "      <th>surge_area</th>\n",
              "      <th>surge_targets_met_pct.1</th>\n",
              "      <th>label</th>\n",
              "    </tr>\n",
              "  </thead>\n",
              "  <tbody>\n",
              "    <tr>\n",
              "      <th>0</th>\n",
              "      <td>0</td>\n",
              "      <td>2</td>\n",
              "      <td>1.660222e+12</td>\n",
              "      <td>30.00</td>\n",
              "      <td>-5.333889e-04</td>\n",
              "      <td>precursor</td>\n",
              "      <td>29.99</td>\n",
              "      <td>-0.012510</td>\n",
              "      <td>0.000002</td>\n",
              "      <td>-0.004204</td>\n",
              "      <td>...</td>\n",
              "      <td>1</td>\n",
              "      <td>0.000838</td>\n",
              "      <td>29.83</td>\n",
              "      <td>29.83</td>\n",
              "      <td>29.84</td>\n",
              "      <td>29.84</td>\n",
              "      <td>0.000838</td>\n",
              "      <td>0.000838</td>\n",
              "      <td>0.033523</td>\n",
              "      <td>0</td>\n",
              "    </tr>\n",
              "    <tr>\n",
              "      <th>1</th>\n",
              "      <td>1</td>\n",
              "      <td>4</td>\n",
              "      <td>1.660222e+12</td>\n",
              "      <td>29.83</td>\n",
              "      <td>-6.637375e-05</td>\n",
              "      <td>precursor</td>\n",
              "      <td>29.88</td>\n",
              "      <td>0.002322</td>\n",
              "      <td>-0.000039</td>\n",
              "      <td>0.000775</td>\n",
              "      <td>...</td>\n",
              "      <td>2</td>\n",
              "      <td>0.002008</td>\n",
              "      <td>29.92</td>\n",
              "      <td>29.91</td>\n",
              "      <td>29.88</td>\n",
              "      <td>29.88</td>\n",
              "      <td>0.004017</td>\n",
              "      <td>0.004017</td>\n",
              "      <td>-0.133690</td>\n",
              "      <td>0</td>\n",
              "    </tr>\n",
              "    <tr>\n",
              "      <th>2</th>\n",
              "      <td>2</td>\n",
              "      <td>6</td>\n",
              "      <td>1.660222e+12</td>\n",
              "      <td>29.92</td>\n",
              "      <td>-6.345915e-04</td>\n",
              "      <td>precursor</td>\n",
              "      <td>29.91</td>\n",
              "      <td>0.005934</td>\n",
              "      <td>-0.000019</td>\n",
              "      <td>0.002165</td>\n",
              "      <td>...</td>\n",
              "      <td>2</td>\n",
              "      <td>0.002382</td>\n",
              "      <td>29.90</td>\n",
              "      <td>29.81</td>\n",
              "      <td>29.84</td>\n",
              "      <td>29.84</td>\n",
              "      <td>0.004765</td>\n",
              "      <td>0.004765</td>\n",
              "      <td>-0.200669</td>\n",
              "      <td>0</td>\n",
              "    </tr>\n",
              "    <tr>\n",
              "      <th>3</th>\n",
              "      <td>3</td>\n",
              "      <td>8</td>\n",
              "      <td>1.660222e+12</td>\n",
              "      <td>29.90</td>\n",
              "      <td>-5.020193e-04</td>\n",
              "      <td>precursor</td>\n",
              "      <td>29.91</td>\n",
              "      <td>-0.002813</td>\n",
              "      <td>-0.000010</td>\n",
              "      <td>-0.001013</td>\n",
              "      <td>...</td>\n",
              "      <td>2</td>\n",
              "      <td>0.002109</td>\n",
              "      <td>29.91</td>\n",
              "      <td>29.87</td>\n",
              "      <td>29.91</td>\n",
              "      <td>29.91</td>\n",
              "      <td>0.004218</td>\n",
              "      <td>0.004218</td>\n",
              "      <td>0.000000</td>\n",
              "      <td>0</td>\n",
              "    </tr>\n",
              "    <tr>\n",
              "      <th>4</th>\n",
              "      <td>4</td>\n",
              "      <td>10</td>\n",
              "      <td>1.660223e+12</td>\n",
              "      <td>29.91</td>\n",
              "      <td>-1.469841e-03</td>\n",
              "      <td>precursor</td>\n",
              "      <td>29.90</td>\n",
              "      <td>-0.000211</td>\n",
              "      <td>0.000061</td>\n",
              "      <td>0.001178</td>\n",
              "      <td>...</td>\n",
              "      <td>2</td>\n",
              "      <td>0.004807</td>\n",
              "      <td>29.67</td>\n",
              "      <td>29.60</td>\n",
              "      <td>29.49</td>\n",
              "      <td>29.49</td>\n",
              "      <td>0.009614</td>\n",
              "      <td>0.009614</td>\n",
              "      <td>-0.606673</td>\n",
              "      <td>0</td>\n",
              "    </tr>\n",
              "    <tr>\n",
              "      <th>...</th>\n",
              "      <td>...</td>\n",
              "      <td>...</td>\n",
              "      <td>...</td>\n",
              "      <td>...</td>\n",
              "      <td>...</td>\n",
              "      <td>...</td>\n",
              "      <td>...</td>\n",
              "      <td>...</td>\n",
              "      <td>...</td>\n",
              "      <td>...</td>\n",
              "      <td>...</td>\n",
              "      <td>...</td>\n",
              "      <td>...</td>\n",
              "      <td>...</td>\n",
              "      <td>...</td>\n",
              "      <td>...</td>\n",
              "      <td>...</td>\n",
              "      <td>...</td>\n",
              "      <td>...</td>\n",
              "      <td>...</td>\n",
              "      <td>...</td>\n",
              "    </tr>\n",
              "    <tr>\n",
              "      <th>6411</th>\n",
              "      <td>6411</td>\n",
              "      <td>12824</td>\n",
              "      <td>1.699042e+12</td>\n",
              "      <td>12.09</td>\n",
              "      <td>6.835784e-08</td>\n",
              "      <td>precursor</td>\n",
              "      <td>12.09</td>\n",
              "      <td>0.007670</td>\n",
              "      <td>-0.000135</td>\n",
              "      <td>0.001137</td>\n",
              "      <td>...</td>\n",
              "      <td>2</td>\n",
              "      <td>0.002900</td>\n",
              "      <td>12.10</td>\n",
              "      <td>12.06</td>\n",
              "      <td>12.07</td>\n",
              "      <td>12.07</td>\n",
              "      <td>0.005801</td>\n",
              "      <td>0.005801</td>\n",
              "      <td>-0.247934</td>\n",
              "      <td>0</td>\n",
              "    </tr>\n",
              "    <tr>\n",
              "      <th>6412</th>\n",
              "      <td>6412</td>\n",
              "      <td>12826</td>\n",
              "      <td>1.699043e+12</td>\n",
              "      <td>12.10</td>\n",
              "      <td>8.291806e-05</td>\n",
              "      <td>precursor</td>\n",
              "      <td>12.10</td>\n",
              "      <td>0.128049</td>\n",
              "      <td>0.000514</td>\n",
              "      <td>0.020292</td>\n",
              "      <td>...</td>\n",
              "      <td>2</td>\n",
              "      <td>0.001491</td>\n",
              "      <td>12.10</td>\n",
              "      <td>12.07</td>\n",
              "      <td>12.08</td>\n",
              "      <td>12.08</td>\n",
              "      <td>0.002982</td>\n",
              "      <td>0.002982</td>\n",
              "      <td>-0.165289</td>\n",
              "      <td>0</td>\n",
              "    </tr>\n",
              "    <tr>\n",
              "      <th>6413</th>\n",
              "      <td>6413</td>\n",
              "      <td>12828</td>\n",
              "      <td>1.699044e+12</td>\n",
              "      <td>12.10</td>\n",
              "      <td>4.140439e-04</td>\n",
              "      <td>precursor</td>\n",
              "      <td>12.10</td>\n",
              "      <td>-0.005610</td>\n",
              "      <td>-0.000328</td>\n",
              "      <td>-0.000815</td>\n",
              "      <td>...</td>\n",
              "      <td>2</td>\n",
              "      <td>0.005863</td>\n",
              "      <td>12.18</td>\n",
              "      <td>12.11</td>\n",
              "      <td>12.10</td>\n",
              "      <td>12.10</td>\n",
              "      <td>0.011726</td>\n",
              "      <td>0.011726</td>\n",
              "      <td>-0.656814</td>\n",
              "      <td>0</td>\n",
              "    </tr>\n",
              "    <tr>\n",
              "      <th>6414</th>\n",
              "      <td>6414</td>\n",
              "      <td>12830</td>\n",
              "      <td>1.699045e+12</td>\n",
              "      <td>12.18</td>\n",
              "      <td>-3.610930e-03</td>\n",
              "      <td>precursor</td>\n",
              "      <td>12.13</td>\n",
              "      <td>-0.003349</td>\n",
              "      <td>0.002099</td>\n",
              "      <td>-0.000474</td>\n",
              "      <td>...</td>\n",
              "      <td>1</td>\n",
              "      <td>0.001072</td>\n",
              "      <td>12.14</td>\n",
              "      <td>12.14</td>\n",
              "      <td>12.13</td>\n",
              "      <td>12.13</td>\n",
              "      <td>0.001072</td>\n",
              "      <td>0.001072</td>\n",
              "      <td>-0.082372</td>\n",
              "      <td>0</td>\n",
              "    </tr>\n",
              "    <tr>\n",
              "      <th>6415</th>\n",
              "      <td>6415</td>\n",
              "      <td>12832</td>\n",
              "      <td>1.699046e+12</td>\n",
              "      <td>12.14</td>\n",
              "      <td>-1.646768e-04</td>\n",
              "      <td>precursor</td>\n",
              "      <td>12.15</td>\n",
              "      <td>-0.003861</td>\n",
              "      <td>0.001729</td>\n",
              "      <td>-0.000519</td>\n",
              "      <td>...</td>\n",
              "      <td>2</td>\n",
              "      <td>0.297416</td>\n",
              "      <td>12.14</td>\n",
              "      <td>12.09</td>\n",
              "      <td>12.10</td>\n",
              "      <td>12.10</td>\n",
              "      <td>0.594831</td>\n",
              "      <td>0.594831</td>\n",
              "      <td>-0.329489</td>\n",
              "      <td>0</td>\n",
              "    </tr>\n",
              "  </tbody>\n",
              "</table>\n",
              "<p>6416 rows × 39 columns</p>\n",
              "</div>\n",
              "    <div class=\"colab-df-buttons\">\n",
              "\n",
              "  <div class=\"colab-df-container\">\n",
              "    <button class=\"colab-df-convert\" onclick=\"convertToInteractive('df-efcd84e7-e72b-433a-97b2-73be603759a0')\"\n",
              "            title=\"Convert this dataframe to an interactive table.\"\n",
              "            style=\"display:none;\">\n",
              "\n",
              "  <svg xmlns=\"http://www.w3.org/2000/svg\" height=\"24px\" viewBox=\"0 -960 960 960\">\n",
              "    <path d=\"M120-120v-720h720v720H120Zm60-500h600v-160H180v160Zm220 220h160v-160H400v160Zm0 220h160v-160H400v160ZM180-400h160v-160H180v160Zm440 0h160v-160H620v160ZM180-180h160v-160H180v160Zm440 0h160v-160H620v160Z\"/>\n",
              "  </svg>\n",
              "    </button>\n",
              "\n",
              "  <style>\n",
              "    .colab-df-container {\n",
              "      display:flex;\n",
              "      gap: 12px;\n",
              "    }\n",
              "\n",
              "    .colab-df-convert {\n",
              "      background-color: #E8F0FE;\n",
              "      border: none;\n",
              "      border-radius: 50%;\n",
              "      cursor: pointer;\n",
              "      display: none;\n",
              "      fill: #1967D2;\n",
              "      height: 32px;\n",
              "      padding: 0 0 0 0;\n",
              "      width: 32px;\n",
              "    }\n",
              "\n",
              "    .colab-df-convert:hover {\n",
              "      background-color: #E2EBFA;\n",
              "      box-shadow: 0px 1px 2px rgba(60, 64, 67, 0.3), 0px 1px 3px 1px rgba(60, 64, 67, 0.15);\n",
              "      fill: #174EA6;\n",
              "    }\n",
              "\n",
              "    .colab-df-buttons div {\n",
              "      margin-bottom: 4px;\n",
              "    }\n",
              "\n",
              "    [theme=dark] .colab-df-convert {\n",
              "      background-color: #3B4455;\n",
              "      fill: #D2E3FC;\n",
              "    }\n",
              "\n",
              "    [theme=dark] .colab-df-convert:hover {\n",
              "      background-color: #434B5C;\n",
              "      box-shadow: 0px 1px 3px 1px rgba(0, 0, 0, 0.15);\n",
              "      filter: drop-shadow(0px 1px 2px rgba(0, 0, 0, 0.3));\n",
              "      fill: #FFFFFF;\n",
              "    }\n",
              "  </style>\n",
              "\n",
              "    <script>\n",
              "      const buttonEl =\n",
              "        document.querySelector('#df-efcd84e7-e72b-433a-97b2-73be603759a0 button.colab-df-convert');\n",
              "      buttonEl.style.display =\n",
              "        google.colab.kernel.accessAllowed ? 'block' : 'none';\n",
              "\n",
              "      async function convertToInteractive(key) {\n",
              "        const element = document.querySelector('#df-efcd84e7-e72b-433a-97b2-73be603759a0');\n",
              "        const dataTable =\n",
              "          await google.colab.kernel.invokeFunction('convertToInteractive',\n",
              "                                                    [key], {});\n",
              "        if (!dataTable) return;\n",
              "\n",
              "        const docLinkHtml = 'Like what you see? Visit the ' +\n",
              "          '<a target=\"_blank\" href=https://colab.research.google.com/notebooks/data_table.ipynb>data table notebook</a>'\n",
              "          + ' to learn more about interactive tables.';\n",
              "        element.innerHTML = '';\n",
              "        dataTable['output_type'] = 'display_data';\n",
              "        await google.colab.output.renderOutput(dataTable, element);\n",
              "        const docLink = document.createElement('div');\n",
              "        docLink.innerHTML = docLinkHtml;\n",
              "        element.appendChild(docLink);\n",
              "      }\n",
              "    </script>\n",
              "  </div>\n",
              "\n",
              "\n",
              "<div id=\"df-51bdc3c7-3408-40e6-9e3b-20be0179ee28\">\n",
              "  <button class=\"colab-df-quickchart\" onclick=\"quickchart('df-51bdc3c7-3408-40e6-9e3b-20be0179ee28')\"\n",
              "            title=\"Suggest charts\"\n",
              "            style=\"display:none;\">\n",
              "\n",
              "<svg xmlns=\"http://www.w3.org/2000/svg\" height=\"24px\"viewBox=\"0 0 24 24\"\n",
              "     width=\"24px\">\n",
              "    <g>\n",
              "        <path d=\"M19 3H5c-1.1 0-2 .9-2 2v14c0 1.1.9 2 2 2h14c1.1 0 2-.9 2-2V5c0-1.1-.9-2-2-2zM9 17H7v-7h2v7zm4 0h-2V7h2v10zm4 0h-2v-4h2v4z\"/>\n",
              "    </g>\n",
              "</svg>\n",
              "  </button>\n",
              "\n",
              "<style>\n",
              "  .colab-df-quickchart {\n",
              "      --bg-color: #E8F0FE;\n",
              "      --fill-color: #1967D2;\n",
              "      --hover-bg-color: #E2EBFA;\n",
              "      --hover-fill-color: #174EA6;\n",
              "      --disabled-fill-color: #AAA;\n",
              "      --disabled-bg-color: #DDD;\n",
              "  }\n",
              "\n",
              "  [theme=dark] .colab-df-quickchart {\n",
              "      --bg-color: #3B4455;\n",
              "      --fill-color: #D2E3FC;\n",
              "      --hover-bg-color: #434B5C;\n",
              "      --hover-fill-color: #FFFFFF;\n",
              "      --disabled-bg-color: #3B4455;\n",
              "      --disabled-fill-color: #666;\n",
              "  }\n",
              "\n",
              "  .colab-df-quickchart {\n",
              "    background-color: var(--bg-color);\n",
              "    border: none;\n",
              "    border-radius: 50%;\n",
              "    cursor: pointer;\n",
              "    display: none;\n",
              "    fill: var(--fill-color);\n",
              "    height: 32px;\n",
              "    padding: 0;\n",
              "    width: 32px;\n",
              "  }\n",
              "\n",
              "  .colab-df-quickchart:hover {\n",
              "    background-color: var(--hover-bg-color);\n",
              "    box-shadow: 0 1px 2px rgba(60, 64, 67, 0.3), 0 1px 3px 1px rgba(60, 64, 67, 0.15);\n",
              "    fill: var(--button-hover-fill-color);\n",
              "  }\n",
              "\n",
              "  .colab-df-quickchart-complete:disabled,\n",
              "  .colab-df-quickchart-complete:disabled:hover {\n",
              "    background-color: var(--disabled-bg-color);\n",
              "    fill: var(--disabled-fill-color);\n",
              "    box-shadow: none;\n",
              "  }\n",
              "\n",
              "  .colab-df-spinner {\n",
              "    border: 2px solid var(--fill-color);\n",
              "    border-color: transparent;\n",
              "    border-bottom-color: var(--fill-color);\n",
              "    animation:\n",
              "      spin 1s steps(1) infinite;\n",
              "  }\n",
              "\n",
              "  @keyframes spin {\n",
              "    0% {\n",
              "      border-color: transparent;\n",
              "      border-bottom-color: var(--fill-color);\n",
              "      border-left-color: var(--fill-color);\n",
              "    }\n",
              "    20% {\n",
              "      border-color: transparent;\n",
              "      border-left-color: var(--fill-color);\n",
              "      border-top-color: var(--fill-color);\n",
              "    }\n",
              "    30% {\n",
              "      border-color: transparent;\n",
              "      border-left-color: var(--fill-color);\n",
              "      border-top-color: var(--fill-color);\n",
              "      border-right-color: var(--fill-color);\n",
              "    }\n",
              "    40% {\n",
              "      border-color: transparent;\n",
              "      border-right-color: var(--fill-color);\n",
              "      border-top-color: var(--fill-color);\n",
              "    }\n",
              "    60% {\n",
              "      border-color: transparent;\n",
              "      border-right-color: var(--fill-color);\n",
              "    }\n",
              "    80% {\n",
              "      border-color: transparent;\n",
              "      border-right-color: var(--fill-color);\n",
              "      border-bottom-color: var(--fill-color);\n",
              "    }\n",
              "    90% {\n",
              "      border-color: transparent;\n",
              "      border-bottom-color: var(--fill-color);\n",
              "    }\n",
              "  }\n",
              "</style>\n",
              "\n",
              "  <script>\n",
              "    async function quickchart(key) {\n",
              "      const quickchartButtonEl =\n",
              "        document.querySelector('#' + key + ' button');\n",
              "      quickchartButtonEl.disabled = true;  // To prevent multiple clicks.\n",
              "      quickchartButtonEl.classList.add('colab-df-spinner');\n",
              "      try {\n",
              "        const charts = await google.colab.kernel.invokeFunction(\n",
              "            'suggestCharts', [key], {});\n",
              "      } catch (error) {\n",
              "        console.error('Error during call to suggestCharts:', error);\n",
              "      }\n",
              "      quickchartButtonEl.classList.remove('colab-df-spinner');\n",
              "      quickchartButtonEl.classList.add('colab-df-quickchart-complete');\n",
              "    }\n",
              "    (() => {\n",
              "      let quickchartButtonEl =\n",
              "        document.querySelector('#df-51bdc3c7-3408-40e6-9e3b-20be0179ee28 button');\n",
              "      quickchartButtonEl.style.display =\n",
              "        google.colab.kernel.accessAllowed ? 'block' : 'none';\n",
              "    })();\n",
              "  </script>\n",
              "</div>\n",
              "    </div>\n",
              "  </div>\n"
            ]
          },
          "metadata": {},
          "execution_count": 9
        }
      ],
      "source": [
        "#load up binary binned pipeline\n",
        "url_m = 'https://raw.githubusercontent.com/stefanbund/py3100/main/binary_binned_pipeline.csv'\n",
        "mdf = pd.read_csv(url_m) #make a pandas dataframe\n",
        "mdf  #matrix dataframe"
      ]
    },
    {
      "cell_type": "markdown",
      "source": [
        "variables associated"
      ],
      "metadata": {
        "id": "_--p1rxzXwM9"
      }
    },
    {
      "cell_type": "markdown",
      "source": [
        "With the code mdf.columns it will name all the columns listed in the previous code."
      ],
      "metadata": {
        "id": "GjdDaRNE2K1U"
      }
    },
    {
      "cell_type": "code",
      "execution_count": null,
      "metadata": {
        "id": "kWsKDPJBFi4J",
        "outputId": "05c77223-d9c4-4d6f-b6ac-d644b5bcf304",
        "colab": {
          "base_uri": "https://localhost:8080/"
        }
      },
      "outputs": [
        {
          "output_type": "execute_result",
          "data": {
            "text/plain": [
              "Index(['Unnamed: 0', 'group', 'time', 's_MP', 'change', 'type', 'p_MP',\n",
              "       'precursor_buy_cap_pct_change', 'precursor_ask_cap_pct_change',\n",
              "       'precursor_bid_vol_pct_change', 'precursor_ask_vol_pct_change',\n",
              "       'length', 'sum_change', 'max_surge_mp', 'min_surge_mp',\n",
              "       'max_precursor_mp', 'min_precursor_mp', 'area', 'surge_targets_met_pct',\n",
              "       'group.1', 'time.1', 's_MP.1', 'change.1', 'type.1', 'p_MP.1',\n",
              "       'precursor_buy_cap_pct_change.1', 'precursor_ask_cap_pct_change.1',\n",
              "       'precursor_bid_vol_pct_change.1', 'precursor_ask_vol_pct_change.1',\n",
              "       'length.1', 'sum_change.1', 'max_surge_mp.1', 'min_surge_mp.1',\n",
              "       'max_precursor_mp.1', 'min_precursor_mp.1', 'area.1', 'surge_area',\n",
              "       'surge_targets_met_pct.1', 'label'],\n",
              "      dtype='object')"
            ]
          },
          "metadata": {},
          "execution_count": 10
        }
      ],
      "source": [
        "mdf.columns"
      ]
    },
    {
      "cell_type": "markdown",
      "source": [
        "Reminder to click down to see all the hidden cells here which are 9 of them."
      ],
      "metadata": {
        "id": "7pvA4K5K2cIG"
      }
    },
    {
      "cell_type": "markdown",
      "metadata": {
        "id": "y9fsmwrCFi4K"
      },
      "source": [
        "### reliability of label\n",
        "correct classification"
      ]
    },
    {
      "cell_type": "markdown",
      "source": [
        "This code is supposed to calculate the mean of the targeted columns. As stated from the botton the correct answer from overstack overflow to the error is \"to invoke your classes and functions after you define them\""
      ],
      "metadata": {
        "id": "6XdyWXVXB2Bq"
      }
    },
    {
      "cell_type": "markdown",
      "source": [
        "what is the average \"1\" trade's value?"
      ],
      "metadata": {
        "id": "IeldC2r7Cqj2"
      }
    },
    {
      "cell_type": "code",
      "execution_count": null,
      "metadata": {
        "id": "49u5-7ywFi4K",
        "outputId": "f7e7c489-61c2-4e03-e493-04816e75c9a1",
        "colab": {
          "base_uri": "https://localhost:8080/",
          "height": 175
        }
      },
      "outputs": [
        {
          "output_type": "error",
          "ename": "NameError",
          "evalue": "ignored",
          "traceback": [
            "\u001b[0;31m---------------------------------------------------------------------------\u001b[0m",
            "\u001b[0;31mNameError\u001b[0m                                 Traceback (most recent call last)",
            "\u001b[0;32m<ipython-input-1-dc80bfe75dc0>\u001b[0m in \u001b[0;36m<cell line: 1>\u001b[0;34m()\u001b[0m\n\u001b[0;32m----> 1\u001b[0;31m \u001b[0mmdf\u001b[0m\u001b[0;34m[\u001b[0m\u001b[0mmdf\u001b[0m\u001b[0;34m[\u001b[0m\u001b[0;34m'label'\u001b[0m\u001b[0;34m]\u001b[0m\u001b[0;34m==\u001b[0m\u001b[0;36m1\u001b[0m\u001b[0;34m]\u001b[0m\u001b[0;34m[\u001b[0m\u001b[0;34m'surge_targets_met_pct'\u001b[0m\u001b[0;34m]\u001b[0m\u001b[0;34m.\u001b[0m\u001b[0mmean\u001b[0m\u001b[0;34m(\u001b[0m\u001b[0;34m)\u001b[0m \u001b[0;31m#.74 or above\u001b[0m\u001b[0;34m\u001b[0m\u001b[0;34m\u001b[0m\u001b[0m\n\u001b[0m",
            "\u001b[0;31mNameError\u001b[0m: name 'mdf' is not defined"
          ]
        }
      ],
      "source": [
        "mdf[mdf['label']==1]['surge_targets_met_pct'].mean() #.74 or above"
      ]
    },
    {
      "cell_type": "markdown",
      "source": [
        "This code is to create 2 mdf under the dataframe from the label column."
      ],
      "metadata": {
        "id": "KE5vAJ5fCsB-"
      }
    },
    {
      "cell_type": "code",
      "execution_count": null,
      "metadata": {
        "id": "YlUeXMSmFi4L"
      },
      "outputs": [],
      "source": [
        "ones = mdf[mdf['label']==1]  #good trades\n",
        "zeroes = mdf[mdf['label']==0] #baddies"
      ]
    },
    {
      "cell_type": "markdown",
      "source": [
        "study the underlying dichotomies in your data"
      ],
      "metadata": {
        "id": "09oSO8whYrNs"
      }
    },
    {
      "cell_type": "markdown",
      "source": [
        "set of rows that have ones in the dataframe"
      ],
      "metadata": {
        "id": "T9Js8x1CDc3C"
      }
    },
    {
      "cell_type": "code",
      "source": [
        "ones.shape[0] # finger monkeys"
      ],
      "metadata": {
        "id": "lMLihKsftC88"
      },
      "execution_count": null,
      "outputs": []
    },
    {
      "cell_type": "markdown",
      "source": [
        "number of rows in the dataframe that have zeroes"
      ],
      "metadata": {
        "id": "Hw3AoZGKI-6U"
      }
    },
    {
      "cell_type": "code",
      "source": [
        "zeroes.shape[0]  #evil monkeys"
      ],
      "metadata": {
        "id": "bpluG9mCtFv-"
      },
      "execution_count": null,
      "outputs": []
    },
    {
      "cell_type": "markdown",
      "source": [
        "dimensions = features in the data we wish to study, before we classify"
      ],
      "metadata": {
        "id": "-fABi-G_Y65T"
      }
    },
    {
      "cell_type": "markdown",
      "source": [
        "Here we are defining what dimensions will mean which is stated below."
      ],
      "metadata": {
        "id": "PFm186LtDBei"
      }
    },
    {
      "cell_type": "code",
      "execution_count": null,
      "metadata": {
        "id": "r0aJY0SFFi4L"
      },
      "outputs": [],
      "source": [
        "dimensions = ['precursor_ask_cap_pct_change','precursor_ask_vol_pct_change']\n"
      ]
    },
    {
      "cell_type": "markdown",
      "source": [
        "Creating a histogram  for two columns as stated in the code."
      ],
      "metadata": {
        "id": "3OFHxEO6DA4P"
      }
    },
    {
      "cell_type": "code",
      "execution_count": null,
      "metadata": {
        "id": "swuWYN-dFi4M"
      },
      "outputs": [],
      "source": [
        "fig, axs = plt.subplots(1, 2, figsize=(10, 5))\n",
        "axs[0].hist(ones['precursor_ask_cap_pct_change'], bins=10)\n",
        "axs[0].set_title('ONES: Histogram of precursor_ask_cap_pct_change')\n",
        "axs[1].hist(ones['precursor_ask_vol_pct_change'], bins=10)\n",
        "axs[1].set_title('ONES: Histogram of precursor_ask_vol_pct_change')\n",
        "plt.show()"
      ]
    },
    {
      "cell_type": "markdown",
      "metadata": {
        "id": "eJHQ5Gz7Fi4M"
      },
      "source": [
        "### cap vs vol probability density, ONES"
      ]
    },
    {
      "cell_type": "markdown",
      "source": [
        "the AI responded with \"The error is because you are trying to use a variable called ones that is not defined. You can fix this by defining the variable before you use it.\""
      ],
      "metadata": {
        "id": "ONXE3mH62py_"
      }
    },
    {
      "cell_type": "code",
      "execution_count": null,
      "metadata": {
        "id": "1sQKwHo-Fi4M",
        "outputId": "5ba84530-18fb-4e92-80b2-3d28a2251fbc",
        "colab": {
          "base_uri": "https://localhost:8080/",
          "height": 192
        }
      },
      "outputs": [
        {
          "output_type": "error",
          "ename": "NameError",
          "evalue": "ignored",
          "traceback": [
            "\u001b[0;31m---------------------------------------------------------------------------\u001b[0m",
            "\u001b[0;31mNameError\u001b[0m                                 Traceback (most recent call last)",
            "\u001b[0;32m<ipython-input-2-1848e30d0010>\u001b[0m in \u001b[0;36m<cell line: 1>\u001b[0;34m()\u001b[0m\n\u001b[0;32m----> 1\u001b[0;31m \u001b[0mones\u001b[0m\u001b[0;34m[\u001b[0m\u001b[0;34m'precursor_ask_cap_pct_change'\u001b[0m\u001b[0;34m]\u001b[0m\u001b[0;34m.\u001b[0m\u001b[0mplot\u001b[0m\u001b[0;34m.\u001b[0m\u001b[0mdensity\u001b[0m\u001b[0;34m(\u001b[0m\u001b[0;34m)\u001b[0m  \u001b[0;31m#precursor_ask_vol_pct_change\u001b[0m\u001b[0;34m\u001b[0m\u001b[0;34m\u001b[0m\u001b[0m\n\u001b[0m",
            "\u001b[0;31mNameError\u001b[0m: name 'ones' is not defined"
          ]
        }
      ],
      "source": [
        "ones['precursor_ask_cap_pct_change'].plot.density()  #precursor_ask_vol_pct_change\n"
      ]
    },
    {
      "cell_type": "markdown",
      "source": [
        "The AI explanied the error with \"The code failed because the variable ones is not defined. To fix the code, you need to define the variable ones before you can use it.\""
      ],
      "metadata": {
        "id": "GtJjx0YM26US"
      }
    },
    {
      "cell_type": "code",
      "execution_count": null,
      "metadata": {
        "id": "4FEk0NU9Fi4N",
        "outputId": "fc8ea67a-0d51-40a1-c9ab-34d5781976e6",
        "colab": {
          "base_uri": "https://localhost:8080/",
          "height": 192
        }
      },
      "outputs": [
        {
          "output_type": "error",
          "ename": "NameError",
          "evalue": "ignored",
          "traceback": [
            "\u001b[0;31m---------------------------------------------------------------------------\u001b[0m",
            "\u001b[0;31mNameError\u001b[0m                                 Traceback (most recent call last)",
            "\u001b[0;32m<ipython-input-3-3ff1be157ede>\u001b[0m in \u001b[0;36m<cell line: 1>\u001b[0;34m()\u001b[0m\n\u001b[0;32m----> 1\u001b[0;31m \u001b[0mones\u001b[0m\u001b[0;34m[\u001b[0m\u001b[0;34m'precursor_ask_vol_pct_change'\u001b[0m\u001b[0;34m]\u001b[0m\u001b[0;34m.\u001b[0m\u001b[0mplot\u001b[0m\u001b[0;34m.\u001b[0m\u001b[0mdensity\u001b[0m\u001b[0;34m(\u001b[0m\u001b[0;34m)\u001b[0m  \u001b[0;31m#precursor_ask_vol_pct_change\u001b[0m\u001b[0;34m\u001b[0m\u001b[0;34m\u001b[0m\u001b[0m\n\u001b[0m",
            "\u001b[0;31mNameError\u001b[0m: name 'ones' is not defined"
          ]
        }
      ],
      "source": [
        "ones['precursor_ask_vol_pct_change'].plot.density()  #precursor_ask_vol_pct_change"
      ]
    },
    {
      "cell_type": "markdown",
      "metadata": {
        "id": "bdD-y-C6Fi4N"
      },
      "source": [
        "### cap vs vol probability density, ZEROES"
      ]
    },
    {
      "cell_type": "markdown",
      "source": [
        "The AI explanation after clicking the explain error button said \"The code failed because the variable zeroes is not defined. To fix this, you can either define the variable before using it, or you can use the global keyword to tell Python that the variable is global.\""
      ],
      "metadata": {
        "id": "-h4iLXLH3RFI"
      }
    },
    {
      "cell_type": "code",
      "execution_count": null,
      "metadata": {
        "id": "2VcY9jReFi4N",
        "outputId": "9389ef1b-44e1-49ff-c493-051562457bf8",
        "colab": {
          "base_uri": "https://localhost:8080/",
          "height": 192
        }
      },
      "outputs": [
        {
          "output_type": "error",
          "ename": "NameError",
          "evalue": "ignored",
          "traceback": [
            "\u001b[0;31m---------------------------------------------------------------------------\u001b[0m",
            "\u001b[0;31mNameError\u001b[0m                                 Traceback (most recent call last)",
            "\u001b[0;32m<ipython-input-4-5dc13b77e642>\u001b[0m in \u001b[0;36m<cell line: 1>\u001b[0;34m()\u001b[0m\n\u001b[0;32m----> 1\u001b[0;31m \u001b[0mzeroes\u001b[0m\u001b[0;34m[\u001b[0m\u001b[0;34m'precursor_ask_cap_pct_change'\u001b[0m\u001b[0;34m]\u001b[0m\u001b[0;34m.\u001b[0m\u001b[0mplot\u001b[0m\u001b[0;34m.\u001b[0m\u001b[0mdensity\u001b[0m\u001b[0;34m(\u001b[0m\u001b[0;34m)\u001b[0m  \u001b[0;31m#precursor_ask_vol_pct_change\u001b[0m\u001b[0;34m\u001b[0m\u001b[0;34m\u001b[0m\u001b[0m\n\u001b[0m",
            "\u001b[0;31mNameError\u001b[0m: name 'zeroes' is not defined"
          ]
        }
      ],
      "source": [
        "zeroes['precursor_ask_cap_pct_change'].plot.density()  #precursor_ask_vol_pct_change\n"
      ]
    },
    {
      "cell_type": "markdown",
      "source": [
        "The AI explanation after clicking the explain error button said \"The traceback indicates that the variable zeroes is not defined. To fix this, you can either define the variable before using it, or you can use the df. syntax to access the column directly.\" and also provides the code to fix it."
      ],
      "metadata": {
        "id": "BnhuuBqJ3kUE"
      }
    },
    {
      "cell_type": "code",
      "execution_count": null,
      "metadata": {
        "id": "hNSnxScXFi4N",
        "outputId": "db3e20e2-d56b-4e34-d56b-d5816d01db48",
        "colab": {
          "base_uri": "https://localhost:8080/",
          "height": 192
        }
      },
      "outputs": [
        {
          "output_type": "error",
          "ename": "NameError",
          "evalue": "ignored",
          "traceback": [
            "\u001b[0;31m---------------------------------------------------------------------------\u001b[0m",
            "\u001b[0;31mNameError\u001b[0m                                 Traceback (most recent call last)",
            "\u001b[0;32m<ipython-input-5-8ee191bcd4d5>\u001b[0m in \u001b[0;36m<cell line: 1>\u001b[0;34m()\u001b[0m\n\u001b[0;32m----> 1\u001b[0;31m \u001b[0mzeroes\u001b[0m\u001b[0;34m[\u001b[0m\u001b[0;34m'precursor_ask_vol_pct_change'\u001b[0m\u001b[0;34m]\u001b[0m\u001b[0;34m.\u001b[0m\u001b[0mplot\u001b[0m\u001b[0;34m.\u001b[0m\u001b[0mdensity\u001b[0m\u001b[0;34m(\u001b[0m\u001b[0;34m)\u001b[0m  \u001b[0;31m#precursor_ask_vol_pct_change\u001b[0m\u001b[0;34m\u001b[0m\u001b[0;34m\u001b[0m\u001b[0m\n\u001b[0m",
            "\u001b[0;31mNameError\u001b[0m: name 'zeroes' is not defined"
          ]
        }
      ],
      "source": [
        "zeroes['precursor_ask_vol_pct_change'].plot.density()  #precursor_ask_vol_pct_change\n"
      ]
    },
    {
      "cell_type": "markdown",
      "source": [
        "This code will create a historgram for two different columns as specified with the designated values inputed."
      ],
      "metadata": {
        "id": "57aGpm2C4BOn"
      }
    },
    {
      "cell_type": "code",
      "execution_count": null,
      "metadata": {
        "id": "cseibBFAFi4O"
      },
      "outputs": [],
      "source": [
        "fig, axs = plt.subplots(1, 2, figsize=(10, 5))\n",
        "axs[0].hist(zeroes['precursor_ask_cap_pct_change'], bins=10)\n",
        "axs[0].set_title('ZEROES: Histogram of precursor_ask_cap_pct_change')\n",
        "axs[1].hist(zeroes['precursor_ask_vol_pct_change'], bins=10)\n",
        "axs[1].set_title('ZEROES: Histogram of precursor_ask_vol_pct_change')\n",
        "plt.show()"
      ]
    },
    {
      "cell_type": "markdown",
      "metadata": {
        "id": "HVwdexunFi4O"
      },
      "source": [
        "## Modeling and Prediction Using KNeighbors"
      ]
    },
    {
      "cell_type": "markdown",
      "source": [
        "Using ADASYN we created a machine learning/AI pipeline for the purpose of oversampling, Kneighborsclassifier, and processing . It will be displayed below as well."
      ],
      "metadata": {
        "id": "JmiAmkrQ7FQF"
      }
    },
    {
      "cell_type": "code",
      "execution_count": null,
      "metadata": {
        "id": "J40RO87aFi4O",
        "outputId": "1860b7f8-f36f-455e-d7c8-dde6a30c8771",
        "colab": {
          "base_uri": "https://localhost:8080/",
          "height": 74
        }
      },
      "outputs": [
        {
          "output_type": "execute_result",
          "data": {
            "text/plain": [
              "KNeighborsClassifier(n_jobs=1, n_neighbors=3)"
            ],
            "text/html": [
              "<style>#sk-container-id-1 {color: black;background-color: white;}#sk-container-id-1 pre{padding: 0;}#sk-container-id-1 div.sk-toggleable {background-color: white;}#sk-container-id-1 label.sk-toggleable__label {cursor: pointer;display: block;width: 100%;margin-bottom: 0;padding: 0.3em;box-sizing: border-box;text-align: center;}#sk-container-id-1 label.sk-toggleable__label-arrow:before {content: \"▸\";float: left;margin-right: 0.25em;color: #696969;}#sk-container-id-1 label.sk-toggleable__label-arrow:hover:before {color: black;}#sk-container-id-1 div.sk-estimator:hover label.sk-toggleable__label-arrow:before {color: black;}#sk-container-id-1 div.sk-toggleable__content {max-height: 0;max-width: 0;overflow: hidden;text-align: left;background-color: #f0f8ff;}#sk-container-id-1 div.sk-toggleable__content pre {margin: 0.2em;color: black;border-radius: 0.25em;background-color: #f0f8ff;}#sk-container-id-1 input.sk-toggleable__control:checked~div.sk-toggleable__content {max-height: 200px;max-width: 100%;overflow: auto;}#sk-container-id-1 input.sk-toggleable__control:checked~label.sk-toggleable__label-arrow:before {content: \"▾\";}#sk-container-id-1 div.sk-estimator input.sk-toggleable__control:checked~label.sk-toggleable__label {background-color: #d4ebff;}#sk-container-id-1 div.sk-label input.sk-toggleable__control:checked~label.sk-toggleable__label {background-color: #d4ebff;}#sk-container-id-1 input.sk-hidden--visually {border: 0;clip: rect(1px 1px 1px 1px);clip: rect(1px, 1px, 1px, 1px);height: 1px;margin: -1px;overflow: hidden;padding: 0;position: absolute;width: 1px;}#sk-container-id-1 div.sk-estimator {font-family: monospace;background-color: #f0f8ff;border: 1px dotted black;border-radius: 0.25em;box-sizing: border-box;margin-bottom: 0.5em;}#sk-container-id-1 div.sk-estimator:hover {background-color: #d4ebff;}#sk-container-id-1 div.sk-parallel-item::after {content: \"\";width: 100%;border-bottom: 1px solid gray;flex-grow: 1;}#sk-container-id-1 div.sk-label:hover label.sk-toggleable__label {background-color: #d4ebff;}#sk-container-id-1 div.sk-serial::before {content: \"\";position: absolute;border-left: 1px solid gray;box-sizing: border-box;top: 0;bottom: 0;left: 50%;z-index: 0;}#sk-container-id-1 div.sk-serial {display: flex;flex-direction: column;align-items: center;background-color: white;padding-right: 0.2em;padding-left: 0.2em;position: relative;}#sk-container-id-1 div.sk-item {position: relative;z-index: 1;}#sk-container-id-1 div.sk-parallel {display: flex;align-items: stretch;justify-content: center;background-color: white;position: relative;}#sk-container-id-1 div.sk-item::before, #sk-container-id-1 div.sk-parallel-item::before {content: \"\";position: absolute;border-left: 1px solid gray;box-sizing: border-box;top: 0;bottom: 0;left: 50%;z-index: -1;}#sk-container-id-1 div.sk-parallel-item {display: flex;flex-direction: column;z-index: 1;position: relative;background-color: white;}#sk-container-id-1 div.sk-parallel-item:first-child::after {align-self: flex-end;width: 50%;}#sk-container-id-1 div.sk-parallel-item:last-child::after {align-self: flex-start;width: 50%;}#sk-container-id-1 div.sk-parallel-item:only-child::after {width: 0;}#sk-container-id-1 div.sk-dashed-wrapped {border: 1px dashed gray;margin: 0 0.4em 0.5em 0.4em;box-sizing: border-box;padding-bottom: 0.4em;background-color: white;}#sk-container-id-1 div.sk-label label {font-family: monospace;font-weight: bold;display: inline-block;line-height: 1.2em;}#sk-container-id-1 div.sk-label-container {text-align: center;}#sk-container-id-1 div.sk-container {/* jupyter's `normalize.less` sets `[hidden] { display: none; }` but bootstrap.min.css set `[hidden] { display: none !important; }` so we also need the `!important` here to be able to override the default hidden behavior on the sphinx rendered scikit-learn.org. See: https://github.com/scikit-learn/scikit-learn/issues/21755 */display: inline-block !important;position: relative;}#sk-container-id-1 div.sk-text-repr-fallback {display: none;}</style><div id=\"sk-container-id-1\" class=\"sk-top-container\"><div class=\"sk-text-repr-fallback\"><pre>KNeighborsClassifier(n_jobs=1, n_neighbors=3)</pre><b>In a Jupyter environment, please rerun this cell to show the HTML representation or trust the notebook. <br />On GitHub, the HTML representation is unable to render, please try loading this page with nbviewer.org.</b></div><div class=\"sk-container\" hidden><div class=\"sk-item\"><div class=\"sk-estimator sk-toggleable\"><input class=\"sk-toggleable__control sk-hidden--visually\" id=\"sk-estimator-id-1\" type=\"checkbox\" checked><label for=\"sk-estimator-id-1\" class=\"sk-toggleable__label sk-toggleable__label-arrow\">KNeighborsClassifier</label><div class=\"sk-toggleable__content\"><pre>KNeighborsClassifier(n_jobs=1, n_neighbors=3)</pre></div></div></div></div></div>"
            ]
          },
          "metadata": {},
          "execution_count": 22
        }
      ],
      "source": [
        "m2_pipeline = mdf #pd.read_csv(\"0 Data Processing/binary_binned_pipeline.csv\")  #use mdf instead\n",
        "\n",
        "corr_list = [\n",
        "'precursor_buy_cap_pct_change', 'precursor_ask_cap_pct_change',\n",
        "'precursor_bid_vol_pct_change', 'precursor_ask_vol_pct_change','length', 'sum_change', 'surge_targets_met_pct','time', 'label']\n",
        "\n",
        "m2_pipeline = m2_pipeline[corr_list]\n",
        "keepable = ['precursor_buy_cap_pct_change',\n",
        "        'precursor_ask_cap_pct_change',\n",
        "        'precursor_bid_vol_pct_change',\n",
        "        'precursor_ask_vol_pct_change',\n",
        "        'sum_change','length','time']\n",
        "\n",
        "y = m2_pipeline['label'].values   # y is always a vector, a list of labels\n",
        "X = m2_pipeline[keepable].values  #x matrix is a list of values/dimensions\n",
        "\n",
        "X_resampled, y_resampled = ADASYN(random_state=42 ).fit_resample(X, y) #create synthetic classes\n",
        "\n",
        "X_train, X_test, y_train, y_test = train_test_split(X_resampled, y_resampled, test_size=0.2, random_state=42)\n",
        "\n",
        "scaler = StandardScaler()  #standardize all numerics\n",
        "X_train_scaled = scaler.fit_transform(X_resampled)\n",
        "\n",
        "X_test_scaled = scaler.fit_transform(X_test)\n",
        "\n",
        "knn = KNeighborsClassifier(algorithm='auto', n_jobs=1, n_neighbors=3)\n",
        "knn.fit(X_train_scaled, y_resampled)\n",
        "\n"
      ]
    },
    {
      "cell_type": "markdown",
      "source": [
        "In this code we will be displaying a a correlation matrix for the selected dataframe columns from m2_pipeline."
      ],
      "metadata": {
        "id": "qsg2avkv71wm"
      }
    },
    {
      "cell_type": "code",
      "source": [
        "corr_list = [\n",
        "'precursor_buy_cap_pct_change', 'precursor_ask_cap_pct_change',\n",
        "'precursor_bid_vol_pct_change', 'precursor_ask_vol_pct_change','length', 'sum_change', 'surge_targets_met_pct','time', 'label']\n",
        "\n",
        "m2_pipeline = m2_pipeline[corr_list]\n",
        "m2_pipeline.corr()"
      ],
      "metadata": {
        "colab": {
          "base_uri": "https://localhost:8080/",
          "height": 351
        },
        "id": "fsJLxkVndg-I",
        "outputId": "5cdb54f6-ad7b-4a06-8416-006d5c1aee2e"
      },
      "execution_count": null,
      "outputs": [
        {
          "output_type": "execute_result",
          "data": {
            "text/plain": [
              "                              precursor_buy_cap_pct_change  \\\n",
              "precursor_buy_cap_pct_change                      1.000000   \n",
              "precursor_ask_cap_pct_change                      0.195900   \n",
              "precursor_bid_vol_pct_change                      0.547428   \n",
              "precursor_ask_vol_pct_change                      0.177817   \n",
              "length                                           -0.074944   \n",
              "sum_change                                        0.136782   \n",
              "surge_targets_met_pct                            -0.001754   \n",
              "time                                             -0.068998   \n",
              "label                                            -0.025531   \n",
              "\n",
              "                              precursor_ask_cap_pct_change  \\\n",
              "precursor_buy_cap_pct_change                      0.195900   \n",
              "precursor_ask_cap_pct_change                      1.000000   \n",
              "precursor_bid_vol_pct_change                      0.190969   \n",
              "precursor_ask_vol_pct_change                      0.217833   \n",
              "length                                            0.055215   \n",
              "sum_change                                       -0.131603   \n",
              "surge_targets_met_pct                             0.067987   \n",
              "time                                             -0.044788   \n",
              "label                                             0.041780   \n",
              "\n",
              "                              precursor_bid_vol_pct_change  \\\n",
              "precursor_buy_cap_pct_change                      0.547428   \n",
              "precursor_ask_cap_pct_change                      0.190969   \n",
              "precursor_bid_vol_pct_change                      1.000000   \n",
              "precursor_ask_vol_pct_change                      0.058289   \n",
              "length                                            0.041534   \n",
              "sum_change                                       -0.151138   \n",
              "surge_targets_met_pct                            -0.007312   \n",
              "time                                              0.028991   \n",
              "label                                            -0.006628   \n",
              "\n",
              "                              precursor_ask_vol_pct_change    length  \\\n",
              "precursor_buy_cap_pct_change                      0.177817 -0.074944   \n",
              "precursor_ask_cap_pct_change                      0.217833  0.055215   \n",
              "precursor_bid_vol_pct_change                      0.058289  0.041534   \n",
              "precursor_ask_vol_pct_change                      1.000000  0.006376   \n",
              "length                                            0.006376  1.000000   \n",
              "sum_change                                        0.041253 -0.254271   \n",
              "surge_targets_met_pct                            -0.008205  0.073598   \n",
              "time                                             -0.006647  0.037215   \n",
              "label                                            -0.017352 -0.008279   \n",
              "\n",
              "                              sum_change  surge_targets_met_pct      time  \\\n",
              "precursor_buy_cap_pct_change    0.136782              -0.001754 -0.068998   \n",
              "precursor_ask_cap_pct_change   -0.131603               0.067987 -0.044788   \n",
              "precursor_bid_vol_pct_change   -0.151138              -0.007312  0.028991   \n",
              "precursor_ask_vol_pct_change    0.041253              -0.008205 -0.006647   \n",
              "length                         -0.254271               0.073598  0.037215   \n",
              "sum_change                      1.000000              -0.036988  0.021903   \n",
              "surge_targets_met_pct          -0.036988               1.000000 -0.018359   \n",
              "time                            0.021903              -0.018359  1.000000   \n",
              "label                          -0.137136               0.462379 -0.030431   \n",
              "\n",
              "                                 label  \n",
              "precursor_buy_cap_pct_change -0.025531  \n",
              "precursor_ask_cap_pct_change  0.041780  \n",
              "precursor_bid_vol_pct_change -0.006628  \n",
              "precursor_ask_vol_pct_change -0.017352  \n",
              "length                       -0.008279  \n",
              "sum_change                   -0.137136  \n",
              "surge_targets_met_pct         0.462379  \n",
              "time                         -0.030431  \n",
              "label                         1.000000  "
            ],
            "text/html": [
              "\n",
              "  <div id=\"df-07f2627f-83b2-4884-bca7-3f14793c5b71\" class=\"colab-df-container\">\n",
              "    <div>\n",
              "<style scoped>\n",
              "    .dataframe tbody tr th:only-of-type {\n",
              "        vertical-align: middle;\n",
              "    }\n",
              "\n",
              "    .dataframe tbody tr th {\n",
              "        vertical-align: top;\n",
              "    }\n",
              "\n",
              "    .dataframe thead th {\n",
              "        text-align: right;\n",
              "    }\n",
              "</style>\n",
              "<table border=\"1\" class=\"dataframe\">\n",
              "  <thead>\n",
              "    <tr style=\"text-align: right;\">\n",
              "      <th></th>\n",
              "      <th>precursor_buy_cap_pct_change</th>\n",
              "      <th>precursor_ask_cap_pct_change</th>\n",
              "      <th>precursor_bid_vol_pct_change</th>\n",
              "      <th>precursor_ask_vol_pct_change</th>\n",
              "      <th>length</th>\n",
              "      <th>sum_change</th>\n",
              "      <th>surge_targets_met_pct</th>\n",
              "      <th>time</th>\n",
              "      <th>label</th>\n",
              "    </tr>\n",
              "  </thead>\n",
              "  <tbody>\n",
              "    <tr>\n",
              "      <th>precursor_buy_cap_pct_change</th>\n",
              "      <td>1.000000</td>\n",
              "      <td>0.195900</td>\n",
              "      <td>0.547428</td>\n",
              "      <td>0.177817</td>\n",
              "      <td>-0.074944</td>\n",
              "      <td>0.136782</td>\n",
              "      <td>-0.001754</td>\n",
              "      <td>-0.068998</td>\n",
              "      <td>-0.025531</td>\n",
              "    </tr>\n",
              "    <tr>\n",
              "      <th>precursor_ask_cap_pct_change</th>\n",
              "      <td>0.195900</td>\n",
              "      <td>1.000000</td>\n",
              "      <td>0.190969</td>\n",
              "      <td>0.217833</td>\n",
              "      <td>0.055215</td>\n",
              "      <td>-0.131603</td>\n",
              "      <td>0.067987</td>\n",
              "      <td>-0.044788</td>\n",
              "      <td>0.041780</td>\n",
              "    </tr>\n",
              "    <tr>\n",
              "      <th>precursor_bid_vol_pct_change</th>\n",
              "      <td>0.547428</td>\n",
              "      <td>0.190969</td>\n",
              "      <td>1.000000</td>\n",
              "      <td>0.058289</td>\n",
              "      <td>0.041534</td>\n",
              "      <td>-0.151138</td>\n",
              "      <td>-0.007312</td>\n",
              "      <td>0.028991</td>\n",
              "      <td>-0.006628</td>\n",
              "    </tr>\n",
              "    <tr>\n",
              "      <th>precursor_ask_vol_pct_change</th>\n",
              "      <td>0.177817</td>\n",
              "      <td>0.217833</td>\n",
              "      <td>0.058289</td>\n",
              "      <td>1.000000</td>\n",
              "      <td>0.006376</td>\n",
              "      <td>0.041253</td>\n",
              "      <td>-0.008205</td>\n",
              "      <td>-0.006647</td>\n",
              "      <td>-0.017352</td>\n",
              "    </tr>\n",
              "    <tr>\n",
              "      <th>length</th>\n",
              "      <td>-0.074944</td>\n",
              "      <td>0.055215</td>\n",
              "      <td>0.041534</td>\n",
              "      <td>0.006376</td>\n",
              "      <td>1.000000</td>\n",
              "      <td>-0.254271</td>\n",
              "      <td>0.073598</td>\n",
              "      <td>0.037215</td>\n",
              "      <td>-0.008279</td>\n",
              "    </tr>\n",
              "    <tr>\n",
              "      <th>sum_change</th>\n",
              "      <td>0.136782</td>\n",
              "      <td>-0.131603</td>\n",
              "      <td>-0.151138</td>\n",
              "      <td>0.041253</td>\n",
              "      <td>-0.254271</td>\n",
              "      <td>1.000000</td>\n",
              "      <td>-0.036988</td>\n",
              "      <td>0.021903</td>\n",
              "      <td>-0.137136</td>\n",
              "    </tr>\n",
              "    <tr>\n",
              "      <th>surge_targets_met_pct</th>\n",
              "      <td>-0.001754</td>\n",
              "      <td>0.067987</td>\n",
              "      <td>-0.007312</td>\n",
              "      <td>-0.008205</td>\n",
              "      <td>0.073598</td>\n",
              "      <td>-0.036988</td>\n",
              "      <td>1.000000</td>\n",
              "      <td>-0.018359</td>\n",
              "      <td>0.462379</td>\n",
              "    </tr>\n",
              "    <tr>\n",
              "      <th>time</th>\n",
              "      <td>-0.068998</td>\n",
              "      <td>-0.044788</td>\n",
              "      <td>0.028991</td>\n",
              "      <td>-0.006647</td>\n",
              "      <td>0.037215</td>\n",
              "      <td>0.021903</td>\n",
              "      <td>-0.018359</td>\n",
              "      <td>1.000000</td>\n",
              "      <td>-0.030431</td>\n",
              "    </tr>\n",
              "    <tr>\n",
              "      <th>label</th>\n",
              "      <td>-0.025531</td>\n",
              "      <td>0.041780</td>\n",
              "      <td>-0.006628</td>\n",
              "      <td>-0.017352</td>\n",
              "      <td>-0.008279</td>\n",
              "      <td>-0.137136</td>\n",
              "      <td>0.462379</td>\n",
              "      <td>-0.030431</td>\n",
              "      <td>1.000000</td>\n",
              "    </tr>\n",
              "  </tbody>\n",
              "</table>\n",
              "</div>\n",
              "    <div class=\"colab-df-buttons\">\n",
              "\n",
              "  <div class=\"colab-df-container\">\n",
              "    <button class=\"colab-df-convert\" onclick=\"convertToInteractive('df-07f2627f-83b2-4884-bca7-3f14793c5b71')\"\n",
              "            title=\"Convert this dataframe to an interactive table.\"\n",
              "            style=\"display:none;\">\n",
              "\n",
              "  <svg xmlns=\"http://www.w3.org/2000/svg\" height=\"24px\" viewBox=\"0 -960 960 960\">\n",
              "    <path d=\"M120-120v-720h720v720H120Zm60-500h600v-160H180v160Zm220 220h160v-160H400v160Zm0 220h160v-160H400v160ZM180-400h160v-160H180v160Zm440 0h160v-160H620v160ZM180-180h160v-160H180v160Zm440 0h160v-160H620v160Z\"/>\n",
              "  </svg>\n",
              "    </button>\n",
              "\n",
              "  <style>\n",
              "    .colab-df-container {\n",
              "      display:flex;\n",
              "      gap: 12px;\n",
              "    }\n",
              "\n",
              "    .colab-df-convert {\n",
              "      background-color: #E8F0FE;\n",
              "      border: none;\n",
              "      border-radius: 50%;\n",
              "      cursor: pointer;\n",
              "      display: none;\n",
              "      fill: #1967D2;\n",
              "      height: 32px;\n",
              "      padding: 0 0 0 0;\n",
              "      width: 32px;\n",
              "    }\n",
              "\n",
              "    .colab-df-convert:hover {\n",
              "      background-color: #E2EBFA;\n",
              "      box-shadow: 0px 1px 2px rgba(60, 64, 67, 0.3), 0px 1px 3px 1px rgba(60, 64, 67, 0.15);\n",
              "      fill: #174EA6;\n",
              "    }\n",
              "\n",
              "    .colab-df-buttons div {\n",
              "      margin-bottom: 4px;\n",
              "    }\n",
              "\n",
              "    [theme=dark] .colab-df-convert {\n",
              "      background-color: #3B4455;\n",
              "      fill: #D2E3FC;\n",
              "    }\n",
              "\n",
              "    [theme=dark] .colab-df-convert:hover {\n",
              "      background-color: #434B5C;\n",
              "      box-shadow: 0px 1px 3px 1px rgba(0, 0, 0, 0.15);\n",
              "      filter: drop-shadow(0px 1px 2px rgba(0, 0, 0, 0.3));\n",
              "      fill: #FFFFFF;\n",
              "    }\n",
              "  </style>\n",
              "\n",
              "    <script>\n",
              "      const buttonEl =\n",
              "        document.querySelector('#df-07f2627f-83b2-4884-bca7-3f14793c5b71 button.colab-df-convert');\n",
              "      buttonEl.style.display =\n",
              "        google.colab.kernel.accessAllowed ? 'block' : 'none';\n",
              "\n",
              "      async function convertToInteractive(key) {\n",
              "        const element = document.querySelector('#df-07f2627f-83b2-4884-bca7-3f14793c5b71');\n",
              "        const dataTable =\n",
              "          await google.colab.kernel.invokeFunction('convertToInteractive',\n",
              "                                                    [key], {});\n",
              "        if (!dataTable) return;\n",
              "\n",
              "        const docLinkHtml = 'Like what you see? Visit the ' +\n",
              "          '<a target=\"_blank\" href=https://colab.research.google.com/notebooks/data_table.ipynb>data table notebook</a>'\n",
              "          + ' to learn more about interactive tables.';\n",
              "        element.innerHTML = '';\n",
              "        dataTable['output_type'] = 'display_data';\n",
              "        await google.colab.output.renderOutput(dataTable, element);\n",
              "        const docLink = document.createElement('div');\n",
              "        docLink.innerHTML = docLinkHtml;\n",
              "        element.appendChild(docLink);\n",
              "      }\n",
              "    </script>\n",
              "  </div>\n",
              "\n",
              "\n",
              "<div id=\"df-5c1d5749-44e6-443f-88e6-64b3012b7bb4\">\n",
              "  <button class=\"colab-df-quickchart\" onclick=\"quickchart('df-5c1d5749-44e6-443f-88e6-64b3012b7bb4')\"\n",
              "            title=\"Suggest charts\"\n",
              "            style=\"display:none;\">\n",
              "\n",
              "<svg xmlns=\"http://www.w3.org/2000/svg\" height=\"24px\"viewBox=\"0 0 24 24\"\n",
              "     width=\"24px\">\n",
              "    <g>\n",
              "        <path d=\"M19 3H5c-1.1 0-2 .9-2 2v14c0 1.1.9 2 2 2h14c1.1 0 2-.9 2-2V5c0-1.1-.9-2-2-2zM9 17H7v-7h2v7zm4 0h-2V7h2v10zm4 0h-2v-4h2v4z\"/>\n",
              "    </g>\n",
              "</svg>\n",
              "  </button>\n",
              "\n",
              "<style>\n",
              "  .colab-df-quickchart {\n",
              "      --bg-color: #E8F0FE;\n",
              "      --fill-color: #1967D2;\n",
              "      --hover-bg-color: #E2EBFA;\n",
              "      --hover-fill-color: #174EA6;\n",
              "      --disabled-fill-color: #AAA;\n",
              "      --disabled-bg-color: #DDD;\n",
              "  }\n",
              "\n",
              "  [theme=dark] .colab-df-quickchart {\n",
              "      --bg-color: #3B4455;\n",
              "      --fill-color: #D2E3FC;\n",
              "      --hover-bg-color: #434B5C;\n",
              "      --hover-fill-color: #FFFFFF;\n",
              "      --disabled-bg-color: #3B4455;\n",
              "      --disabled-fill-color: #666;\n",
              "  }\n",
              "\n",
              "  .colab-df-quickchart {\n",
              "    background-color: var(--bg-color);\n",
              "    border: none;\n",
              "    border-radius: 50%;\n",
              "    cursor: pointer;\n",
              "    display: none;\n",
              "    fill: var(--fill-color);\n",
              "    height: 32px;\n",
              "    padding: 0;\n",
              "    width: 32px;\n",
              "  }\n",
              "\n",
              "  .colab-df-quickchart:hover {\n",
              "    background-color: var(--hover-bg-color);\n",
              "    box-shadow: 0 1px 2px rgba(60, 64, 67, 0.3), 0 1px 3px 1px rgba(60, 64, 67, 0.15);\n",
              "    fill: var(--button-hover-fill-color);\n",
              "  }\n",
              "\n",
              "  .colab-df-quickchart-complete:disabled,\n",
              "  .colab-df-quickchart-complete:disabled:hover {\n",
              "    background-color: var(--disabled-bg-color);\n",
              "    fill: var(--disabled-fill-color);\n",
              "    box-shadow: none;\n",
              "  }\n",
              "\n",
              "  .colab-df-spinner {\n",
              "    border: 2px solid var(--fill-color);\n",
              "    border-color: transparent;\n",
              "    border-bottom-color: var(--fill-color);\n",
              "    animation:\n",
              "      spin 1s steps(1) infinite;\n",
              "  }\n",
              "\n",
              "  @keyframes spin {\n",
              "    0% {\n",
              "      border-color: transparent;\n",
              "      border-bottom-color: var(--fill-color);\n",
              "      border-left-color: var(--fill-color);\n",
              "    }\n",
              "    20% {\n",
              "      border-color: transparent;\n",
              "      border-left-color: var(--fill-color);\n",
              "      border-top-color: var(--fill-color);\n",
              "    }\n",
              "    30% {\n",
              "      border-color: transparent;\n",
              "      border-left-color: var(--fill-color);\n",
              "      border-top-color: var(--fill-color);\n",
              "      border-right-color: var(--fill-color);\n",
              "    }\n",
              "    40% {\n",
              "      border-color: transparent;\n",
              "      border-right-color: var(--fill-color);\n",
              "      border-top-color: var(--fill-color);\n",
              "    }\n",
              "    60% {\n",
              "      border-color: transparent;\n",
              "      border-right-color: var(--fill-color);\n",
              "    }\n",
              "    80% {\n",
              "      border-color: transparent;\n",
              "      border-right-color: var(--fill-color);\n",
              "      border-bottom-color: var(--fill-color);\n",
              "    }\n",
              "    90% {\n",
              "      border-color: transparent;\n",
              "      border-bottom-color: var(--fill-color);\n",
              "    }\n",
              "  }\n",
              "</style>\n",
              "\n",
              "  <script>\n",
              "    async function quickchart(key) {\n",
              "      const quickchartButtonEl =\n",
              "        document.querySelector('#' + key + ' button');\n",
              "      quickchartButtonEl.disabled = true;  // To prevent multiple clicks.\n",
              "      quickchartButtonEl.classList.add('colab-df-spinner');\n",
              "      try {\n",
              "        const charts = await google.colab.kernel.invokeFunction(\n",
              "            'suggestCharts', [key], {});\n",
              "      } catch (error) {\n",
              "        console.error('Error during call to suggestCharts:', error);\n",
              "      }\n",
              "      quickchartButtonEl.classList.remove('colab-df-spinner');\n",
              "      quickchartButtonEl.classList.add('colab-df-quickchart-complete');\n",
              "    }\n",
              "    (() => {\n",
              "      let quickchartButtonEl =\n",
              "        document.querySelector('#df-5c1d5749-44e6-443f-88e6-64b3012b7bb4 button');\n",
              "      quickchartButtonEl.style.display =\n",
              "        google.colab.kernel.accessAllowed ? 'block' : 'none';\n",
              "    })();\n",
              "  </script>\n",
              "</div>\n",
              "    </div>\n",
              "  </div>\n"
            ]
          },
          "metadata": {},
          "execution_count": 23
        }
      ]
    },
    {
      "cell_type": "markdown",
      "source": [
        "The code here will will display a heat map based off the correlation matrix for the soecified dataframe using matplotlib."
      ],
      "metadata": {
        "id": "aGYPCNiX8WNj"
      }
    },
    {
      "cell_type": "code",
      "source": [
        "import pandas as pd\n",
        "import matplotlib.pyplot as plt\n",
        "\n",
        "# create a sample dataframe\n",
        "df = m2_pipeline\n",
        "\n",
        "# calculate the correlation matrix\n",
        "corr_matrix = df.corr()\n",
        "\n",
        "# plot the correlation matrix\n",
        "plt.matshow(corr_matrix)\n",
        "plt.xticks(range(len(corr_matrix.columns)), corr_matrix.columns, rotation=90)\n",
        "plt.yticks(range(len(corr_matrix.columns)), corr_matrix.columns)\n",
        "\n",
        "plt.show()\n"
      ],
      "metadata": {
        "colab": {
          "base_uri": "https://localhost:8080/",
          "height": 642
        },
        "id": "-WoXPY6_vAk0",
        "outputId": "f74b5c3a-eeab-4ae8-e2ef-749555bcaf86"
      },
      "execution_count": null,
      "outputs": [
        {
          "output_type": "display_data",
          "data": {
            "text/plain": [
              "<Figure size 480x480 with 1 Axes>"
            ],
            "image/png": "[encoded data removed]"
          },
          "metadata": {}
        }
      ]
    },
    {
      "cell_type": "markdown",
      "source": [
        "Here we are using the KNN to be able to create/make predictions on the x_test_scaled value."
      ],
      "metadata": {
        "id": "LH9QG91o-8eO"
      }
    },
    {
      "cell_type": "code",
      "execution_count": null,
      "metadata": {
        "id": "xzdFCn3TFi4O"
      },
      "outputs": [],
      "source": [
        "#predict\n",
        "y_pred_knn = knn.predict(X_test_scaled)\n",
        "\n",
        "\n",
        "#plot decision boundary\n",
        "# Assuming your KNN model is stored in the variable 'knn'\n",
        "# plot_decision_boundary(knn, X_test_scaled, y_test)\n",
        "# plt.show()\n"
      ]
    },
    {
      "cell_type": "markdown",
      "source": [
        "This here is to graph the data as listed in the code below which is the KNN."
      ],
      "metadata": {
        "id": "M8BiLe1z_cN-"
      }
    },
    {
      "cell_type": "code",
      "execution_count": null,
      "metadata": {
        "id": "COQVfJafFi4P",
        "outputId": "ac106bd0-6cb0-4778-8eef-5e47c16dd542",
        "colab": {
          "base_uri": "https://localhost:8080/"
        }
      },
      "outputs": [
        {
          "output_type": "execute_result",
          "data": {
            "text/plain": [
              "<6416x12589 sparse matrix of type '<class 'numpy.float64'>'\n",
              "\twith 19248 stored elements in Compressed Sparse Row format>"
            ]
          },
          "metadata": {},
          "execution_count": 26
        }
      ],
      "source": [
        "# Compute the k-neighborhood graph for your data\n",
        "graph = knn.kneighbors_graph(X)\n",
        "graph\n"
      ]
    },
    {
      "cell_type": "markdown",
      "source": [
        "Code displayed here will be used to display below(after the code) the classifiers of the confusion matrix, accuracy score, and the classification report for the KNN which are all calculated by the code as well."
      ],
      "metadata": {
        "id": "mJwrEo3W_j-9"
      }
    },
    {
      "cell_type": "code",
      "execution_count": null,
      "metadata": {
        "id": "iwmL46qgFi4P",
        "outputId": "158268eb-33ea-4064-84ed-a088d29e63f3",
        "colab": {
          "base_uri": "https://localhost:8080/",
          "height": 640
        }
      },
      "outputs": [
        {
          "output_type": "stream",
          "name": "stdout",
          "text": [
            "0.971405877680699\n",
            "[0 1]\n",
            "              precision    recall  f1-score   support\n",
            "\n",
            "           0       0.99      0.95      0.97      1267\n",
            "           1       0.95      0.99      0.97      1251\n",
            "\n",
            "    accuracy                           0.97      2518\n",
            "   macro avg       0.97      0.97      0.97      2518\n",
            "weighted avg       0.97      0.97      0.97      2518\n",
            "\n"
          ]
        },
        {
          "output_type": "display_data",
          "data": {
            "text/plain": [
              "<Figure size 640x480 with 2 Axes>"
            ],
            "image/png": "[encoded data removed]"
          },
          "metadata": {}
        }
      ],
      "source": [
        "#display confusion matrix\n",
        "\n",
        "y_pred_knn = knn.predict(X_test_scaled)\n",
        "\n",
        "accuracy_knn = accuracy_score(y_test, y_pred_knn)\n",
        "print(accuracy_knn)\n",
        "\n",
        "labels_ = m2_pipeline['label'].unique()\n",
        "print(labels_)\n",
        "ConfusionMatrixDisplay.from_predictions(y_test, y_pred_knn, labels=labels_)\n",
        "\n",
        "print(classification_report(y_test, y_pred_knn ,zero_division=1))"
      ]
    },
    {
      "cell_type": "markdown",
      "metadata": {
        "id": "Ag4Ns19jFi4P"
      },
      "source": [
        "### Causality Studies\n"
      ]
    },
    {
      "cell_type": "markdown",
      "source": [
        "creating a subset with only columns from the keepable list from the dataframe."
      ],
      "metadata": {
        "id": "RYXbbYz5J4hv"
      }
    },
    {
      "cell_type": "code",
      "source": [
        "ones_r = mdf[mdf['label']==1][keepable]  #good trades\n",
        "ones_r"
      ],
      "metadata": {
        "colab": {
          "base_uri": "https://localhost:8080/",
          "height": 192
        },
        "id": "PMyb5ICoT5Zi",
        "outputId": "553f1bf3-6b91-4ed5-8719-875d35e2a837"
      },
      "execution_count": null,
      "outputs": [
        {
          "output_type": "error",
          "ename": "NameError",
          "evalue": "ignored",
          "traceback": [
            "\u001b[0;31m---------------------------------------------------------------------------\u001b[0m",
            "\u001b[0;31mNameError\u001b[0m                                 Traceback (most recent call last)",
            "\u001b[0;32m<ipython-input-8-9bf6d9de9a2f>\u001b[0m in \u001b[0;36m<cell line: 1>\u001b[0;34m()\u001b[0m\n\u001b[0;32m----> 1\u001b[0;31m \u001b[0mones_r\u001b[0m \u001b[0;34m=\u001b[0m \u001b[0mmdf\u001b[0m\u001b[0;34m[\u001b[0m\u001b[0mmdf\u001b[0m\u001b[0;34m[\u001b[0m\u001b[0;34m'label'\u001b[0m\u001b[0;34m]\u001b[0m\u001b[0;34m==\u001b[0m\u001b[0;36m1\u001b[0m\u001b[0;34m]\u001b[0m\u001b[0;34m[\u001b[0m\u001b[0mkeepable\u001b[0m\u001b[0;34m]\u001b[0m  \u001b[0;31m#good trades\u001b[0m\u001b[0;34m\u001b[0m\u001b[0;34m\u001b[0m\u001b[0m\n\u001b[0m\u001b[1;32m      2\u001b[0m \u001b[0mones_r\u001b[0m\u001b[0;34m\u001b[0m\u001b[0;34m\u001b[0m\u001b[0m\n",
            "\u001b[0;31mNameError\u001b[0m: name 'mdf' is not defined"
          ]
        }
      ]
    },
    {
      "cell_type": "markdown",
      "source": [
        "This code creates a Vector Auto Regressive model."
      ],
      "metadata": {
        "id": "17ARfcH0KTcm"
      }
    },
    {
      "cell_type": "code",
      "execution_count": null,
      "metadata": {
        "id": "z7xHOt1fFi4P",
        "outputId": "4fdb2ee7-b99a-4045-9596-899f343edaa9",
        "colab": {
          "base_uri": "https://localhost:8080/",
          "height": 262
        }
      },
      "outputs": [
        {
          "output_type": "error",
          "ename": "NameError",
          "evalue": "ignored",
          "traceback": [
            "\u001b[0;31m---------------------------------------------------------------------------\u001b[0m",
            "\u001b[0;31mNameError\u001b[0m                                 Traceback (most recent call last)",
            "\u001b[0;32m<ipython-input-9-e6cc0271384e>\u001b[0m in \u001b[0;36m<cell line: 22>\u001b[0;34m()\u001b[0m\n\u001b[1;32m     20\u001b[0m \u001b[0;34m\u001b[0m\u001b[0m\n\u001b[1;32m     21\u001b[0m \u001b[0mp\u001b[0m\u001b[0;34m=\u001b[0m\u001b[0;36m7\u001b[0m\u001b[0;34m\u001b[0m\u001b[0;34m\u001b[0m\u001b[0m\n\u001b[0;32m---> 22\u001b[0;31m \u001b[0mones\u001b[0m \u001b[0;34m=\u001b[0m \u001b[0mmdf\u001b[0m\u001b[0;34m[\u001b[0m\u001b[0mmdf\u001b[0m\u001b[0;34m[\u001b[0m\u001b[0;34m'label'\u001b[0m\u001b[0;34m]\u001b[0m\u001b[0;34m==\u001b[0m\u001b[0;36m1\u001b[0m\u001b[0;34m]\u001b[0m  \u001b[0;31m#good trades\u001b[0m\u001b[0;34m\u001b[0m\u001b[0;34m\u001b[0m\u001b[0m\n\u001b[0m\u001b[1;32m     23\u001b[0m \u001b[0mp_matrix0\u001b[0m \u001b[0;34m=\u001b[0m \u001b[0mtest_granger\u001b[0m\u001b[0;34m(\u001b[0m\u001b[0mones_r\u001b[0m\u001b[0;34m,\u001b[0m \u001b[0mp\u001b[0m\u001b[0;34m)\u001b[0m\u001b[0;34m\u001b[0m\u001b[0;34m\u001b[0m\u001b[0m\n\u001b[1;32m     24\u001b[0m \u001b[0mcaul_mtrx\u001b[0m \u001b[0;34m=\u001b[0m \u001b[0mp_matrix0\u001b[0m\u001b[0;34m.\u001b[0m\u001b[0mrename\u001b[0m\u001b[0;34m(\u001b[0m\u001b[0mindex\u001b[0m\u001b[0;34m=\u001b[0m\u001b[0;34m{\u001b[0m\u001b[0mitem\u001b[0m\u001b[0;34m:\u001b[0m \u001b[0;34mf\"{item} caused by\"\u001b[0m \u001b[0;32mfor\u001b[0m \u001b[0mitem\u001b[0m \u001b[0;32min\u001b[0m \u001b[0mp_matrix0\u001b[0m\u001b[0;34m.\u001b[0m\u001b[0mindex\u001b[0m\u001b[0;34m}\u001b[0m\u001b[0;34m)\u001b[0m\u001b[0;34m\u001b[0m\u001b[0;34m\u001b[0m\u001b[0m\n",
            "\u001b[0;31mNameError\u001b[0m: name 'mdf' is not defined"
          ]
        }
      ],
      "source": [
        "\n",
        "def test_granger(df, p):\n",
        "    \"\"\"\n",
        "    Fits a VAR(p) model on the input df and performs pairwise Granger Causality tests\n",
        "    \"\"\"\n",
        "     # Fit VAR model on first-order differences\n",
        "    model = VAR(df.diff().dropna())\n",
        "    results = model.fit(p)\n",
        "    # Initialize p-value matrix\n",
        "    p_matrix = pd.DataFrame(index=df.columns, columns=df.columns)\n",
        "    # Perform pairwise Granger Causality tests\n",
        "    for caused in df.columns:\n",
        "        for causing in df.columns:\n",
        "            if caused != causing:\n",
        "                test_result = results.test_causality(caused, causing)\n",
        "                p_value = test_result.pvalue\n",
        "                p_matrix.loc[caused, causing] = p_value\n",
        "    # Ensure all columns have float dtypetest_granger\n",
        "    p_matrix = p_matrix.astype(float)\n",
        "    return p_matrix\n",
        "\n",
        "p=7\n",
        "ones = mdf[mdf['label']==1]  #good trades\n",
        "p_matrix0 = test_granger(ones_r, p)\n",
        "caul_mtrx = p_matrix0.rename(index={item: f\"{item} caused by\" for item in p_matrix0.index})\n",
        "caul_mtrx.where(caul_mtrx.isna(), caul_mtrx <= 0.01)"
      ]
    },
    {
      "cell_type": "markdown",
      "source": [
        "Here we are coding the same granger test as the last code we just did and the label here will equal zero."
      ],
      "metadata": {
        "id": "goNmWWjbKuWc"
      }
    },
    {
      "cell_type": "code",
      "source": [
        "zeroes_r = mdf[mdf['label']==0][keepable]  #bad trades\n",
        "p_matrix1 = test_granger(zeroes_r, p)\n",
        "caul_mtrx = p_matrix1.rename(index={item: f\"{item} caused by\" for item in p_matrix1.index})\n",
        "caul_mtrx.where(caul_mtrx.isna(), caul_mtrx <= 0.01)"
      ],
      "metadata": {
        "id": "scHU-YHkUqHR"
      },
      "execution_count": null,
      "outputs": []
    }
  ],
  "metadata": {
    "kernelspec": {
      "display_name": "Python 3 (ipykernel)",
      "language": "python",
      "name": "python3"
    },
    "language_info": {
      "codemirror_mode": {
        "name": "ipython",
        "version": 3
      },
      "file_extension": ".py",
      "mimetype": "text/x-python",
      "name": "python",
      "nbconvert_exporter": "python",
      "pygments_lexer": "ipython3",
      "version": "3.10.8"
    },
    "colab": {
      "provenance": []
    }
  },
  "nbformat": 4,
  "nbformat_minor": 0
}